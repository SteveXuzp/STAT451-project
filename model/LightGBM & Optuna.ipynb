{
 "cells": [
  {
   "cell_type": "markdown",
   "id": "9f0cafc0-1993-411c-9247-d75ac091280b",
   "metadata": {},
   "source": [
    "# LightGBM & Optuna"
   ]
  },
  {
   "cell_type": "code",
   "execution_count": 1,
   "id": "67ce4a31-1781-4f46-a7ce-e2b1f6cedc8b",
   "metadata": {},
   "outputs": [
    {
     "name": "stdout",
     "output_type": "stream",
     "text": [
      "scikit-learn: 0.24.1\n",
      "optuna      : 2.10.0\n",
      "\n"
     ]
    }
   ],
   "source": [
    "%load_ext watermark\n",
    "%watermark -p scikit-learn,optuna"
   ]
  },
  {
   "cell_type": "markdown",
   "id": "381c55c2-1ec2-43fc-8c66-4a2acbc4b857",
   "metadata": {},
   "source": [
    "## Dataset"
   ]
  },
  {
   "cell_type": "code",
   "execution_count": 2,
   "id": "bf2e92fa-1bf4-4435-a1f3-4e9613ec83d0",
   "metadata": {},
   "outputs": [
    {
     "name": "stdout",
     "output_type": "stream",
     "text": [
      "X_train.shape: (16268, 54)\n",
      "y_train.shape: (16268,)\n",
      "X_test.shape: (6973, 54)\n",
      "y_test.shape: (6973,)\n"
     ]
    }
   ],
   "source": [
    "import pandas as pd\n",
    "from sklearn.model_selection import train_test_split\n",
    "\n",
    "X = pd.read_csv('X.csv', header=None).values\n",
    "y = pd.read_csv('Y.csv', header=None).values.ravel().astype(int)\n",
    "\n",
    "\n",
    "\n",
    "X_train, X_test, y_train, y_test = \\\n",
    "    train_test_split(X, y, test_size=0.3, random_state=1, stratify=y)\n",
    "\n",
    "\n",
    "\n",
    "#X_test = pd.read_csv('https://raw.githubusercontent.com/rasbt/stat451-machine-learning-fs21/main/hw02-starter/dataset/X_test.csv', header=None).values\n",
    "#y_test = pd.read_csv('https://raw.githubusercontent.com/rasbt/stat451-machine-learning-fs21/main/hw02-starter/dataset/y_test.csv', header=None).values.ravel().astype(int)\n",
    "\n",
    "print('X_train.shape:', X_train.shape)\n",
    "print('y_train.shape:', y_train.shape)\n",
    "print('X_test.shape:', X_test.shape)\n",
    "print('y_test.shape:', y_test.shape)\n"
   ]
  },
  {
   "cell_type": "code",
   "execution_count": 3,
   "id": "127e29b0",
   "metadata": {},
   "outputs": [],
   "source": [
    "# X_train"
   ]
  },
  {
   "cell_type": "code",
   "execution_count": 4,
   "id": "8a3b3915",
   "metadata": {},
   "outputs": [],
   "source": [
    "# y_train"
   ]
  },
  {
   "cell_type": "code",
   "execution_count": 5,
   "id": "dfd1ee6f-7163-48ba-ba58-542191985c84",
   "metadata": {},
   "outputs": [
    {
     "name": "stdout",
     "output_type": "stream",
     "text": [
      "Train/Valid/Test sizes: 16268 3254\n"
     ]
    }
   ],
   "source": [
    "X_train_sub, X_valid, y_train_sub, y_valid = \\\n",
    "    train_test_split(X_train, y_train, test_size=0.2, random_state=1, stratify=y_train)\n",
    "\n",
    "print('Train/Valid/Test sizes:', y_train.shape[0], y_valid.shape[0])"
   ]
  },
  {
   "cell_type": "markdown",
   "id": "ae142588",
   "metadata": {},
   "source": [
    "## My Model"
   ]
  },
  {
   "cell_type": "markdown",
   "id": "eddd8b00",
   "metadata": {},
   "source": [
    "### LightGBM & Optuna"
   ]
  },
  {
   "cell_type": "code",
   "execution_count": 6,
   "id": "06115cfc",
   "metadata": {},
   "outputs": [],
   "source": [
    "# !pip install optuna\n",
    "# !pip install lightgbm"
   ]
  },
  {
   "cell_type": "code",
   "execution_count": 7,
   "id": "ef397c3e",
   "metadata": {},
   "outputs": [],
   "source": [
    "import numpy as np\n",
    "import optuna\n",
    "from optuna.integration import LightGBMPruningCallback\n",
    "\n",
    "import lightgbm\n",
    "\n",
    "from sklearn.metrics import log_loss\n",
    "from sklearn.model_selection import StratifiedKFold\n",
    "\n",
    "import warnings\n",
    "\n",
    "warnings.filterwarnings(\"ignore\", category=UserWarning)\n",
    "#optuna.logging.set_verbosity(optuna.logging.WARNING)\n",
    "\n",
    "\n",
    "def objective(trial, X_train, y_train, cv=5):\n",
    "    \n",
    "    param_grid = {\n",
    "        \"n_estimators\": trial.suggest_categorical(\"n_estimators\", [10, 100, 1000, 10000]),\n",
    "        \"learning_rate\": trial.suggest_categorical(\"learning_rate\", [0.01]),\n",
    "    }\n",
    "    \n",
    "    cv_iterator = StratifiedKFold(n_splits=cv, shuffle=True, random_state=123)\n",
    "\n",
    "    cv_scores = np.zeros(cv)\n",
    "    for idx, (train_sub_idx, valid_idx) in enumerate(cv_iterator.split(X_train, y_train)):\n",
    "        \n",
    "        X_train_sub, X_valid = X_train[train_sub_idx], X_train[valid_idx]\n",
    "        y_train_sub, y_valid = y_train[train_sub_idx], y_train[valid_idx]\n",
    "\n",
    "        model = lightgbm.LGBMClassifier(objective=\"multi_logloss\", **param_grid)\n",
    "        model.fit(\n",
    "            X_train_sub,\n",
    "            y_train_sub,\n",
    "            eval_set=[(X_valid, y_valid)],\n",
    "            eval_metric=\"multi_logloss\",\n",
    "            verbose=-1,\n",
    "            early_stopping_rounds=50,\n",
    "            callbacks=[\n",
    "                LightGBMPruningCallback(trial=trial, metric=\"multi_logloss\")\n",
    "            ],  # Add a pruning callback to eliminate unpromising candidates\n",
    "        )\n",
    "        preds = model.score(X_valid, y_valid)\n",
    "        \n",
    "        cv_scores[idx] = preds\n",
    "\n",
    "    return 1-np.mean(cv_scores)"
   ]
  },
  {
   "cell_type": "code",
   "execution_count": 8,
   "id": "a652ed8f",
   "metadata": {},
   "outputs": [
    {
     "name": "stderr",
     "output_type": "stream",
     "text": [
      "\u001b[32m[I 2021-12-05 11:38:46,494]\u001b[0m A new study created in memory with name: LGBM Classifier\u001b[0m\n",
      "\u001b[32m[I 2021-12-05 11:38:47,638]\u001b[0m Trial 0 finished with value: 0.4824804336444388 and parameters: {'n_estimators': 10, 'learning_rate': 0.01}. Best is trial 0 with value: 0.4824804336444388.\u001b[0m\n",
      "\u001b[32m[I 2021-12-05 11:40:27,114]\u001b[0m Trial 1 finished with value: 0.17930938317823397 and parameters: {'n_estimators': 10000, 'learning_rate': 0.01}. Best is trial 1 with value: 0.17930938317823397.\u001b[0m\n",
      "\u001b[32m[I 2021-12-05 11:42:01,355]\u001b[0m Trial 2 finished with value: 0.18373495148254249 and parameters: {'n_estimators': 1000, 'learning_rate': 0.01}. Best is trial 1 with value: 0.17930938317823397.\u001b[0m\n",
      "\u001b[32m[I 2021-12-05 11:42:09,988]\u001b[0m Trial 3 finished with value: 0.23862831170357435 and parameters: {'n_estimators': 100, 'learning_rate': 0.01}. Best is trial 1 with value: 0.17930938317823397.\u001b[0m\n",
      "\u001b[32m[I 2021-12-05 11:42:22,651]\u001b[0m Trial 4 finished with value: 0.23862831170357435 and parameters: {'n_estimators': 100, 'learning_rate': 0.01}. Best is trial 1 with value: 0.17930938317823397.\u001b[0m\n",
      "\u001b[32m[I 2021-12-05 11:44:28,340]\u001b[0m Trial 5 finished with value: 0.17930938317823397 and parameters: {'n_estimators': 10000, 'learning_rate': 0.01}. Best is trial 1 with value: 0.17930938317823397.\u001b[0m\n",
      "\u001b[32m[I 2021-12-05 11:46:28,374]\u001b[0m Trial 6 finished with value: 0.17930938317823397 and parameters: {'n_estimators': 10000, 'learning_rate': 0.01}. Best is trial 1 with value: 0.17930938317823397.\u001b[0m\n",
      "\u001b[32m[I 2021-12-05 11:46:29,885]\u001b[0m Trial 7 finished with value: 0.4824804336444388 and parameters: {'n_estimators': 10, 'learning_rate': 0.01}. Best is trial 1 with value: 0.17930938317823397.\u001b[0m\n",
      "\u001b[32m[I 2021-12-05 11:48:33,679]\u001b[0m Trial 8 finished with value: 0.17930938317823397 and parameters: {'n_estimators': 10000, 'learning_rate': 0.01}. Best is trial 1 with value: 0.17930938317823397.\u001b[0m\n",
      "\u001b[32m[I 2021-12-05 11:50:02,252]\u001b[0m Trial 9 finished with value: 0.18373495148254249 and parameters: {'n_estimators': 1000, 'learning_rate': 0.01}. Best is trial 1 with value: 0.17930938317823397.\u001b[0m\n",
      "\u001b[32m[I 2021-12-05 11:52:02,831]\u001b[0m Trial 10 finished with value: 0.17930938317823397 and parameters: {'n_estimators': 10000, 'learning_rate': 0.01}. Best is trial 1 with value: 0.17930938317823397.\u001b[0m\n",
      "\u001b[32m[I 2021-12-05 11:53:57,139]\u001b[0m Trial 11 finished with value: 0.17930938317823397 and parameters: {'n_estimators': 10000, 'learning_rate': 0.01}. Best is trial 1 with value: 0.17930938317823397.\u001b[0m\n",
      "\u001b[32m[I 2021-12-05 11:55:56,464]\u001b[0m Trial 12 finished with value: 0.17930938317823397 and parameters: {'n_estimators': 10000, 'learning_rate': 0.01}. Best is trial 1 with value: 0.17930938317823397.\u001b[0m\n",
      "\u001b[32m[I 2021-12-05 11:58:00,464]\u001b[0m Trial 13 finished with value: 0.17930938317823397 and parameters: {'n_estimators': 10000, 'learning_rate': 0.01}. Best is trial 1 with value: 0.17930938317823397.\u001b[0m\n",
      "\u001b[32m[I 2021-12-05 12:00:07,677]\u001b[0m Trial 14 finished with value: 0.17930938317823397 and parameters: {'n_estimators': 10000, 'learning_rate': 0.01}. Best is trial 1 with value: 0.17930938317823397.\u001b[0m\n",
      "\u001b[32m[I 2021-12-05 12:02:08,785]\u001b[0m Trial 15 finished with value: 0.17930938317823397 and parameters: {'n_estimators': 10000, 'learning_rate': 0.01}. Best is trial 1 with value: 0.17930938317823397.\u001b[0m\n",
      "\u001b[32m[I 2021-12-05 12:03:40,768]\u001b[0m Trial 16 finished with value: 0.18373495148254249 and parameters: {'n_estimators': 1000, 'learning_rate': 0.01}. Best is trial 1 with value: 0.17930938317823397.\u001b[0m\n",
      "\u001b[32m[I 2021-12-05 12:03:50,045]\u001b[0m Trial 17 finished with value: 0.23862831170357435 and parameters: {'n_estimators': 100, 'learning_rate': 0.01}. Best is trial 1 with value: 0.17930938317823397.\u001b[0m\n",
      "\u001b[32m[I 2021-12-05 12:03:51,247]\u001b[0m Trial 18 finished with value: 0.4824804336444388 and parameters: {'n_estimators': 10, 'learning_rate': 0.01}. Best is trial 1 with value: 0.17930938317823397.\u001b[0m\n",
      "\u001b[32m[I 2021-12-05 12:05:40,321]\u001b[0m Trial 19 finished with value: 0.17930938317823397 and parameters: {'n_estimators': 10000, 'learning_rate': 0.01}. Best is trial 1 with value: 0.17930938317823397.\u001b[0m\n",
      "\u001b[32m[I 2021-12-05 12:07:42,700]\u001b[0m Trial 20 finished with value: 0.17930938317823397 and parameters: {'n_estimators': 10000, 'learning_rate': 0.01}. Best is trial 1 with value: 0.17930938317823397.\u001b[0m\n",
      "\u001b[32m[I 2021-12-05 12:09:32,700]\u001b[0m Trial 21 finished with value: 0.17930938317823397 and parameters: {'n_estimators': 10000, 'learning_rate': 0.01}. Best is trial 1 with value: 0.17930938317823397.\u001b[0m\n",
      "\u001b[32m[I 2021-12-05 12:11:18,690]\u001b[0m Trial 22 finished with value: 0.17930938317823397 and parameters: {'n_estimators': 10000, 'learning_rate': 0.01}. Best is trial 1 with value: 0.17930938317823397.\u001b[0m\n",
      "\u001b[32m[I 2021-12-05 12:13:08,627]\u001b[0m Trial 23 finished with value: 0.17930938317823397 and parameters: {'n_estimators': 10000, 'learning_rate': 0.01}. Best is trial 1 with value: 0.17930938317823397.\u001b[0m\n",
      "\u001b[32m[I 2021-12-05 12:15:02,003]\u001b[0m Trial 24 finished with value: 0.17930938317823397 and parameters: {'n_estimators': 10000, 'learning_rate': 0.01}. Best is trial 1 with value: 0.17930938317823397.\u001b[0m\n",
      "\u001b[32m[I 2021-12-05 12:16:59,864]\u001b[0m Trial 25 finished with value: 0.17930938317823397 and parameters: {'n_estimators': 10000, 'learning_rate': 0.01}. Best is trial 1 with value: 0.17930938317823397.\u001b[0m\n",
      "\u001b[32m[I 2021-12-05 12:17:08,926]\u001b[0m Trial 26 finished with value: 0.23862831170357435 and parameters: {'n_estimators': 100, 'learning_rate': 0.01}. Best is trial 1 with value: 0.17930938317823397.\u001b[0m\n",
      "\u001b[32m[I 2021-12-05 12:19:21,399]\u001b[0m Trial 27 finished with value: 0.18373495148254249 and parameters: {'n_estimators': 1000, 'learning_rate': 0.01}. Best is trial 1 with value: 0.17930938317823397.\u001b[0m\n",
      "\u001b[32m[I 2021-12-05 12:19:23,347]\u001b[0m Trial 28 finished with value: 0.4824804336444388 and parameters: {'n_estimators': 10, 'learning_rate': 0.01}. Best is trial 1 with value: 0.17930938317823397.\u001b[0m\n",
      "\u001b[32m[I 2021-12-05 12:19:25,057]\u001b[0m Trial 29 finished with value: 0.4824804336444388 and parameters: {'n_estimators': 10, 'learning_rate': 0.01}. Best is trial 1 with value: 0.17930938317823397.\u001b[0m\n",
      "\u001b[32m[I 2021-12-05 12:22:05,921]\u001b[0m Trial 30 finished with value: 0.17930938317823397 and parameters: {'n_estimators': 10000, 'learning_rate': 0.01}. Best is trial 1 with value: 0.17930938317823397.\u001b[0m\n",
      "\u001b[32m[I 2021-12-05 12:23:53,894]\u001b[0m Trial 31 finished with value: 0.17930938317823397 and parameters: {'n_estimators': 10000, 'learning_rate': 0.01}. Best is trial 1 with value: 0.17930938317823397.\u001b[0m\n",
      "\u001b[32m[I 2021-12-05 12:26:03,324]\u001b[0m Trial 32 finished with value: 0.17930938317823397 and parameters: {'n_estimators': 10000, 'learning_rate': 0.01}. Best is trial 1 with value: 0.17930938317823397.\u001b[0m\n",
      "\u001b[32m[I 2021-12-05 12:27:51,981]\u001b[0m Trial 33 finished with value: 0.17930938317823397 and parameters: {'n_estimators': 10000, 'learning_rate': 0.01}. Best is trial 1 with value: 0.17930938317823397.\u001b[0m\n",
      "\u001b[32m[I 2021-12-05 12:29:51,731]\u001b[0m Trial 34 finished with value: 0.17930938317823397 and parameters: {'n_estimators': 10000, 'learning_rate': 0.01}. Best is trial 1 with value: 0.17930938317823397.\u001b[0m\n",
      "\u001b[32m[I 2021-12-05 12:31:38,353]\u001b[0m Trial 35 finished with value: 0.17930938317823397 and parameters: {'n_estimators': 10000, 'learning_rate': 0.01}. Best is trial 1 with value: 0.17930938317823397.\u001b[0m\n",
      "\u001b[32m[I 2021-12-05 12:31:46,710]\u001b[0m Trial 36 finished with value: 0.23862831170357435 and parameters: {'n_estimators': 100, 'learning_rate': 0.01}. Best is trial 1 with value: 0.17930938317823397.\u001b[0m\n",
      "\u001b[32m[I 2021-12-05 12:33:12,582]\u001b[0m Trial 37 finished with value: 0.18373495148254249 and parameters: {'n_estimators': 1000, 'learning_rate': 0.01}. Best is trial 1 with value: 0.17930938317823397.\u001b[0m\n",
      "\u001b[32m[I 2021-12-05 12:35:01,000]\u001b[0m Trial 38 finished with value: 0.17930938317823397 and parameters: {'n_estimators': 10000, 'learning_rate': 0.01}. Best is trial 1 with value: 0.17930938317823397.\u001b[0m\n",
      "\u001b[32m[I 2021-12-05 12:37:12,797]\u001b[0m Trial 39 finished with value: 0.17930938317823397 and parameters: {'n_estimators': 10000, 'learning_rate': 0.01}. Best is trial 1 with value: 0.17930938317823397.\u001b[0m\n"
     ]
    },
    {
     "name": "stderr",
     "output_type": "stream",
     "text": [
      "\u001b[32m[I 2021-12-05 12:39:03,165]\u001b[0m Trial 40 finished with value: 0.17930938317823397 and parameters: {'n_estimators': 10000, 'learning_rate': 0.01}. Best is trial 1 with value: 0.17930938317823397.\u001b[0m\n",
      "\u001b[32m[I 2021-12-05 12:40:43,344]\u001b[0m Trial 41 finished with value: 0.17930938317823397 and parameters: {'n_estimators': 10000, 'learning_rate': 0.01}. Best is trial 1 with value: 0.17930938317823397.\u001b[0m\n",
      "\u001b[32m[I 2021-12-05 12:42:26,787]\u001b[0m Trial 42 finished with value: 0.17930938317823397 and parameters: {'n_estimators': 10000, 'learning_rate': 0.01}. Best is trial 1 with value: 0.17930938317823397.\u001b[0m\n",
      "\u001b[32m[I 2021-12-05 12:44:16,729]\u001b[0m Trial 43 finished with value: 0.17930938317823397 and parameters: {'n_estimators': 10000, 'learning_rate': 0.01}. Best is trial 1 with value: 0.17930938317823397.\u001b[0m\n",
      "\u001b[32m[I 2021-12-05 12:45:58,759]\u001b[0m Trial 44 finished with value: 0.17930938317823397 and parameters: {'n_estimators': 10000, 'learning_rate': 0.01}. Best is trial 1 with value: 0.17930938317823397.\u001b[0m\n",
      "\u001b[32m[I 2021-12-05 12:47:52,872]\u001b[0m Trial 45 finished with value: 0.17930938317823397 and parameters: {'n_estimators': 10000, 'learning_rate': 0.01}. Best is trial 1 with value: 0.17930938317823397.\u001b[0m\n",
      "\u001b[32m[I 2021-12-05 12:48:01,258]\u001b[0m Trial 46 finished with value: 0.23862831170357435 and parameters: {'n_estimators': 100, 'learning_rate': 0.01}. Best is trial 1 with value: 0.17930938317823397.\u001b[0m\n",
      "\u001b[32m[I 2021-12-05 12:48:02,458]\u001b[0m Trial 47 finished with value: 0.4824804336444388 and parameters: {'n_estimators': 10, 'learning_rate': 0.01}. Best is trial 1 with value: 0.17930938317823397.\u001b[0m\n",
      "\u001b[32m[I 2021-12-05 12:49:50,097]\u001b[0m Trial 48 finished with value: 0.17930938317823397 and parameters: {'n_estimators': 10000, 'learning_rate': 0.01}. Best is trial 1 with value: 0.17930938317823397.\u001b[0m\n",
      "\u001b[32m[I 2021-12-05 13:09:04,438]\u001b[0m Trial 49 finished with value: 0.18373495148254249 and parameters: {'n_estimators': 1000, 'learning_rate': 0.01}. Best is trial 1 with value: 0.17930938317823397.\u001b[0m\n"
     ]
    }
   ],
   "source": [
    "study = optuna.create_study(direction=\"minimize\", study_name=\"LGBM Classifier\")\n",
    "\n",
    "def func(trial):\n",
    "    return objective(trial, X_train, y_train)\n",
    "\n",
    "study.optimize(func, n_trials=50);"
   ]
  },
  {
   "cell_type": "code",
   "execution_count": 9,
   "id": "3f461992",
   "metadata": {
    "scrolled": false
   },
   "outputs": [
    {
     "name": "stdout",
     "output_type": "stream",
     "text": [
      "\tBest value: 0.17931\n",
      "\tBest params:\n",
      "\t\tn_estimators: 10000\n",
      "\t\tlearning_rate: 0.01\n"
     ]
    }
   ],
   "source": [
    "print(f\"\\tBest value: {study.best_value:.5f}\")\n",
    "print(f\"\\tBest params:\")\n",
    "\n",
    "for key, value in study.best_params.items():\n",
    "    print(f\"\\t\\t{key}: {value}\")"
   ]
  },
  {
   "cell_type": "code",
   "execution_count": 10,
   "id": "2c586a61",
   "metadata": {},
   "outputs": [
    {
     "data": {
      "text/plain": [
       "LGBMClassifier(learning_rate=0.01, n_estimators=10000,\n",
       "               objective='multi_logloss')"
      ]
     },
     "execution_count": 10,
     "metadata": {},
     "output_type": "execute_result"
    }
   ],
   "source": [
    "model = lightgbm.LGBMClassifier(objective=\"multi_logloss\", **study.best_params)\n",
    "model.fit(X_train, y_train)"
   ]
  },
  {
   "cell_type": "code",
   "execution_count": 11,
   "id": "3e3f5b49",
   "metadata": {},
   "outputs": [
    {
     "name": "stdout",
     "output_type": "stream",
     "text": [
      "Training Accuracy: 1.000\n",
      "Test Accuracy: 0.853\n"
     ]
    }
   ],
   "source": [
    "print(f\"Training Accuracy: {model.score(X_train, y_train):0.3f}\")\n",
    "print(f\"Test Accuracy: {model.score(X_test, y_test):0.3f}\")"
   ]
  },
  {
   "cell_type": "code",
   "execution_count": null,
   "id": "3f274ac3",
   "metadata": {},
   "outputs": [],
   "source": []
  }
 ],
 "metadata": {
  "kernelspec": {
   "display_name": "Python 3",
   "language": "python",
   "name": "python3"
  },
  "language_info": {
   "codemirror_mode": {
    "name": "ipython",
    "version": 3
   },
   "file_extension": ".py",
   "mimetype": "text/x-python",
   "name": "python",
   "nbconvert_exporter": "python",
   "pygments_lexer": "ipython3",
   "version": "3.8.8"
  }
 },
 "nbformat": 4,
 "nbformat_minor": 5
}
