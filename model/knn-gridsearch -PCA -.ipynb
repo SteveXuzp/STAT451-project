{
 "cells": [
  {
   "cell_type": "markdown",
   "id": "39329df3-1f99-4b11-9405-5969d52368a7",
   "metadata": {},
   "source": [
    "# KNN & Grid Search Example"
   ]
  },
  {
   "cell_type": "markdown",
   "id": "bd7def2e-0fa1-41d8-b5e5-efb08845fc38",
   "metadata": {},
   "source": [
    "This notebook shows how to tune a simple classifier like a decision tree via GridSearch."
   ]
  },
  {
   "cell_type": "code",
   "execution_count": 1,
   "id": "7f61a90e-a119-4bd0-af21-38604c5b4eec",
   "metadata": {},
   "outputs": [
    {
     "name": "stdout",
     "output_type": "stream",
     "text": [
      "scikit-learn: 0.24.1\n",
      "mlxtend     : 0.19.0\n",
      "xgboost     : not installed\n",
      "\n"
     ]
    }
   ],
   "source": [
    "%load_ext watermark\n",
    "%watermark -p scikit-learn,mlxtend,xgboost"
   ]
  },
  {
   "cell_type": "markdown",
   "id": "74ec6e42",
   "metadata": {},
   "source": [
    "# With PCA"
   ]
  },
  {
   "cell_type": "code",
   "execution_count": 8,
   "id": "ebd6f636",
   "metadata": {},
   "outputs": [
    {
     "name": "stdout",
     "output_type": "stream",
     "text": [
      "X_train.shape: (18592, 49)\n",
      "y_train.shape: (18592,)\n",
      "X_test.shape: (4649, 49)\n",
      "y_test.shape: (4649,)\n",
      "Train/Valid/Test sizes: 18592 3719\n"
     ]
    }
   ],
   "source": [
    "import pandas as pd\n",
    "\n",
    "\n",
    "X_train = pd.read_csv('pcaX_train.csv').values\n",
    "y_train = pd.read_csv('pcay_train.csv').values.ravel().astype(int)\n",
    "\n",
    "X_test = pd.read_csv('pcaX_test.csv').values\n",
    "y_test = pd.read_csv('pcay_test.csv').values.ravel().astype(int)\n",
    "\n",
    "print('X_train.shape:', X_train.shape)\n",
    "print('y_train.shape:', y_train.shape)\n",
    "print('X_test.shape:', X_test.shape)\n",
    "print('y_test.shape:', y_test.shape)\n",
    "\n",
    "\n",
    "from sklearn.model_selection import train_test_split\n",
    "X_train_sub, X_valid, y_train_sub, y_valid = \\\n",
    "    train_test_split(X_train, y_train, test_size=0.2, random_state=1, stratify=y_train)\n",
    "\n",
    "print('Train/Valid/Test sizes:', y_train.shape[0], y_valid.shape[0])"
   ]
  },
  {
   "cell_type": "code",
   "execution_count": null,
   "id": "5f5e2c01",
   "metadata": {},
   "outputs": [],
   "source": []
  },
  {
   "cell_type": "code",
   "execution_count": 9,
   "id": "10f43415",
   "metadata": {},
   "outputs": [
    {
     "data": {
      "text/plain": [
       "KNeighborsClassifier()"
      ]
     },
     "execution_count": 9,
     "metadata": {},
     "output_type": "execute_result"
    }
   ],
   "source": [
    "from sklearn.neighbors import KNeighborsClassifier\n",
    "\n",
    "\n",
    "model = KNeighborsClassifier()\n",
    "model.fit(X_train, y_train)"
   ]
  },
  {
   "cell_type": "code",
   "execution_count": 10,
   "id": "07312b62",
   "metadata": {},
   "outputs": [
    {
     "name": "stdout",
     "output_type": "stream",
     "text": [
      "Fitting 10 folds for each of 7 candidates, totalling 70 fits\n",
      "[CV] END ......................................n_neighbors=2; total time=   0.4s\n",
      "[CV] END ......................................n_neighbors=2; total time=   0.4s\n",
      "[CV] END ......................................n_neighbors=2; total time=   0.4s\n",
      "[CV] END ......................................n_neighbors=2; total time=   0.4s\n",
      "[CV] END ......................................n_neighbors=2; total time=   0.4s\n",
      "[CV] END ......................................n_neighbors=2; total time=   0.4s\n",
      "[CV] END ......................................n_neighbors=2; total time=   0.4s\n",
      "[CV] END ......................................n_neighbors=2; total time=   0.4s\n",
      "[CV] END ......................................n_neighbors=2; total time=   0.4s\n",
      "[CV] END ......................................n_neighbors=2; total time=   0.4s\n",
      "[CV] END ......................................n_neighbors=3; total time=   0.5s\n",
      "[CV] END ......................................n_neighbors=3; total time=   0.4s\n",
      "[CV] END ......................................n_neighbors=3; total time=   0.5s\n",
      "[CV] END ......................................n_neighbors=3; total time=   0.4s\n",
      "[CV] END ......................................n_neighbors=3; total time=   0.4s\n",
      "[CV] END ......................................n_neighbors=3; total time=   0.4s\n",
      "[CV] END ......................................n_neighbors=3; total time=   0.4s\n",
      "[CV] END ......................................n_neighbors=3; total time=   0.5s\n",
      "[CV] END ......................................n_neighbors=3; total time=   0.5s\n",
      "[CV] END ......................................n_neighbors=3; total time=   0.5s\n",
      "[CV] END ......................................n_neighbors=4; total time=   0.6s\n",
      "[CV] END ......................................n_neighbors=4; total time=   0.6s\n",
      "[CV] END ......................................n_neighbors=4; total time=   0.6s\n",
      "[CV] END ......................................n_neighbors=4; total time=   0.6s\n",
      "[CV] END ......................................n_neighbors=4; total time=   0.6s\n",
      "[CV] END ......................................n_neighbors=4; total time=   0.6s\n",
      "[CV] END ......................................n_neighbors=4; total time=   0.6s\n",
      "[CV] END ......................................n_neighbors=4; total time=   0.6s\n",
      "[CV] END ......................................n_neighbors=4; total time=   0.6s\n",
      "[CV] END ......................................n_neighbors=4; total time=   0.5s\n",
      "[CV] END ......................................n_neighbors=5; total time=   0.6s\n",
      "[CV] END ......................................n_neighbors=5; total time=   0.6s\n",
      "[CV] END ......................................n_neighbors=5; total time=   0.7s\n",
      "[CV] END ......................................n_neighbors=5; total time=   0.6s\n",
      "[CV] END ......................................n_neighbors=5; total time=   0.6s\n",
      "[CV] END ......................................n_neighbors=5; total time=   0.6s\n",
      "[CV] END ......................................n_neighbors=5; total time=   0.6s\n",
      "[CV] END ......................................n_neighbors=5; total time=   0.6s\n",
      "[CV] END ......................................n_neighbors=5; total time=   0.6s\n",
      "[CV] END ......................................n_neighbors=5; total time=   0.6s\n",
      "[CV] END ......................................n_neighbors=6; total time=   0.6s\n",
      "[CV] END ......................................n_neighbors=6; total time=   0.6s\n",
      "[CV] END ......................................n_neighbors=6; total time=   0.6s\n",
      "[CV] END ......................................n_neighbors=6; total time=   0.6s\n",
      "[CV] END ......................................n_neighbors=6; total time=   0.6s\n",
      "[CV] END ......................................n_neighbors=6; total time=   0.6s\n",
      "[CV] END ......................................n_neighbors=6; total time=   0.6s\n",
      "[CV] END ......................................n_neighbors=6; total time=   0.6s\n",
      "[CV] END ......................................n_neighbors=6; total time=   0.6s\n",
      "[CV] END ......................................n_neighbors=6; total time=   0.6s\n",
      "[CV] END ......................................n_neighbors=7; total time=   0.6s\n",
      "[CV] END ......................................n_neighbors=7; total time=   0.6s\n",
      "[CV] END ......................................n_neighbors=7; total time=   0.6s\n",
      "[CV] END ......................................n_neighbors=7; total time=   0.6s\n",
      "[CV] END ......................................n_neighbors=7; total time=   0.6s\n",
      "[CV] END ......................................n_neighbors=7; total time=   0.6s\n",
      "[CV] END ......................................n_neighbors=7; total time=   0.6s\n",
      "[CV] END ......................................n_neighbors=7; total time=   0.6s\n",
      "[CV] END ......................................n_neighbors=7; total time=   0.6s\n",
      "[CV] END ......................................n_neighbors=7; total time=   0.5s\n",
      "[CV] END ......................................n_neighbors=8; total time=   0.7s\n",
      "[CV] END ......................................n_neighbors=8; total time=   0.6s\n",
      "[CV] END ......................................n_neighbors=8; total time=   0.6s\n",
      "[CV] END ......................................n_neighbors=8; total time=   0.7s\n",
      "[CV] END ......................................n_neighbors=8; total time=   0.6s\n",
      "[CV] END ......................................n_neighbors=8; total time=   0.6s\n",
      "[CV] END ......................................n_neighbors=8; total time=   0.6s\n",
      "[CV] END ......................................n_neighbors=8; total time=   0.6s\n",
      "[CV] END ......................................n_neighbors=8; total time=   0.6s\n",
      "[CV] END ......................................n_neighbors=8; total time=   0.5s\n"
     ]
    },
    {
     "data": {
      "text/plain": [
       "0.7527974920034474"
      ]
     },
     "execution_count": 10,
     "metadata": {},
     "output_type": "execute_result"
    }
   ],
   "source": [
    "import numpy as np\n",
    "from sklearn.model_selection import GridSearchCV\n",
    "\n",
    "\n",
    "\n",
    "params =  {\n",
    "    'n_neighbors': [2,3,4,5,6,7,8]\n",
    "}\n",
    "\n",
    "\n",
    "grid = GridSearchCV(estimator=model,\n",
    "                    param_grid=params,\n",
    "                    cv=10,\n",
    "                    n_jobs=1,\n",
    "                    verbose=2)\n",
    "\n",
    "grid.fit(X_train, y_train)\n",
    "\n",
    "grid.best_score_"
   ]
  },
  {
   "cell_type": "code",
   "execution_count": 11,
   "id": "9e084f0d",
   "metadata": {},
   "outputs": [
    {
     "data": {
      "text/plain": [
       "{'n_neighbors': 3}"
      ]
     },
     "execution_count": 11,
     "metadata": {},
     "output_type": "execute_result"
    }
   ],
   "source": [
    "grid.best_params_"
   ]
  },
  {
   "cell_type": "code",
   "execution_count": 12,
   "id": "aab2f315",
   "metadata": {},
   "outputs": [
    {
     "name": "stdout",
     "output_type": "stream",
     "text": [
      "Training Accuracy: 0.87887\n",
      "Test Accuracy: 0.76145\n"
     ]
    }
   ],
   "source": [
    "print(f\"Training Accuracy: {grid.best_estimator_.score(X_train, y_train):0.5f}\")\n",
    "#print(f\"Validation Accuracy: {grid.best_estimator_.score(X_valid, y_valid):0.2f}\")\n",
    "print(f\"Test Accuracy: {grid.best_estimator_.score(X_test, y_test):0.5f}\")"
   ]
  },
  {
   "cell_type": "code",
   "execution_count": 13,
   "id": "391a56e4",
   "metadata": {},
   "outputs": [
    {
     "name": "stdout",
     "output_type": "stream",
     "text": [
      "2.17 ms ± 121 µs per loop (mean ± std. dev. of 7 runs, 1000 loops each)\n",
      "1.63 s ± 98 ms per loop (mean ± std. dev. of 7 runs, 1 loop each)\n"
     ]
    }
   ],
   "source": [
    "%timeit model.fit(X_train, y_train) #training(fitting) time\n",
    "%timeit model.score(X_valid, y_valid) #test time"
   ]
  },
  {
   "cell_type": "code",
   "execution_count": null,
   "id": "8103f67d",
   "metadata": {},
   "outputs": [],
   "source": []
  }
 ],
 "metadata": {
  "kernelspec": {
   "display_name": "Python 3",
   "language": "python",
   "name": "python3"
  },
  "language_info": {
   "codemirror_mode": {
    "name": "ipython",
    "version": 3
   },
   "file_extension": ".py",
   "mimetype": "text/x-python",
   "name": "python",
   "nbconvert_exporter": "python",
   "pygments_lexer": "ipython3",
   "version": "3.8.8"
  }
 },
 "nbformat": 4,
 "nbformat_minor": 5
}
