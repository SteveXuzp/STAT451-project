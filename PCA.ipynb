{
 "cells": [
  {
   "cell_type": "code",
   "execution_count": 6,
   "id": "acf24bd3-c1fc-4ead-a98a-54214e9e9be8",
   "metadata": {},
   "outputs": [],
   "source": [
    "import pandas as pd\n",
    "\n",
    "# read the data\n",
    "\n",
    "ori_data = pd.read_csv('X23241.csv')\n",
    "ori_data.drop(ori_data.columns.values[0], axis=1, inplace=True)\n",
    "\n",
    "X_train = pd.read_csv('X23241.csv').values[:,1:]\n",
    "y_train = pd.read_csv('Y23241.csv').values[:,1].ravel().astype(int)"
   ]
  },
  {
   "cell_type": "code",
   "execution_count": 7,
   "id": "507e9427-be2d-46e9-a606-f25860b9e02e",
   "metadata": {},
   "outputs": [
    {
     "name": "stdout",
     "output_type": "stream",
     "text": [
      "Train/Valid sizes: 18592 4649\n"
     ]
    }
   ],
   "source": [
    "from sklearn.model_selection import train_test_split\n",
    "\n",
    "# split the data\n",
    "X_train_sub, X_valid, y_train_sub, y_valid = \\\n",
    "    train_test_split(X_train, y_train, test_size=0.2, random_state=1, stratify=y_train)\n",
    "\n",
    "print('Train/Valid sizes:', y_train_sub.shape[0], y_valid.shape[0])"
   ]
  },
  {
   "cell_type": "code",
   "execution_count": 9,
   "id": "cf5b6bdd-8d0d-484d-9896-bda3991c3b0f",
   "metadata": {},
   "outputs": [
    {
     "name": "stdout",
     "output_type": "stream",
     "text": [
      "[0.25947817 0.21464207 0.17413273 0.10830627 0.07621763]\n",
      "[[-0.10954727 -0.49016191  0.0999793  -0.10212911 -0.07577068 -0.12853822\n",
      "   0.45031782 -0.38568849 -0.59430585  0.01760733]\n",
      " [-0.3615169   0.15885653  0.52773015 -0.03019004  0.21636961 -0.38312322\n",
      "  -0.3614256  -0.35200306  0.02936813 -0.34009302]\n",
      " [ 0.35184226 -0.07589178  0.13367154  0.64946178  0.61530359  0.13576619\n",
      "   0.01691891 -0.12718924 -0.1013502   0.08374127]\n",
      " [ 0.05280274  0.06185163  0.3599455  -0.22087802 -0.12937005  0.5194458\n",
      "  -0.28039329 -0.36773785 -0.01528505  0.5607073 ]\n",
      " [-0.60324791 -0.05132937 -0.16169364  0.18466062  0.19451425 -0.29182457\n",
      "   0.01864307  0.13238947  0.08045564  0.65258552]]\n"
     ]
    }
   ],
   "source": [
    "import numpy as np\n",
    "from sklearn.decomposition import PCA\n",
    "from sklearn import preprocessing\n",
    "\n",
    "# pay attention to the data leaking, we can not use information on validation/test set\n",
    "scaler = preprocessing.StandardScaler().fit(X_train_sub[:,0:10]) # only use pca for numerical variables\n",
    "\n",
    "X_scaled_sub = scaler.transform(X_train_sub[:,0:10]) \n",
    "X_scaled_valid = scaler.transform(X_valid[:,0:10]) #only use the information from training set\n",
    "\n",
    "pca = PCA(n_components=5)\n",
    "pca.fit(X_scaled_sub)\n",
    "X_new_train = pca.transform(X_scaled_sub)\n",
    "X_new_valid = pca.transform(X_scaled_valid)\n",
    "\n",
    "X_std_train = np.hstack((X_new_train, X_train_sub[:,10:]))\n",
    "X_std_valid = np.hstack((X_new_valid, X_valid[:,10:]))\n",
    "\n",
    "X_std_train = pd.DataFrame(data = X_std_train)\n",
    "X_std_valid = pd.DataFrame(data = X_std_valid)\n",
    "y_train_sub = pd.DataFrame(data = y_train_sub)\n",
    "y_valid = pd.DataFrame(data = y_valid)\n",
    "\n",
    "X_std_train.to_csv(\"pcaX_train.csv\", index = False)\n",
    "X_std_valid.to_csv(\"pcaX_test.csv\", index = False)\n",
    "y_train_sub.to_csv(\"pcay_train.csv\", index = False)\n",
    "y_valid.to_csv(\"pcay_test.csv\", index = False)\n",
    "\n",
    "print(pca.explained_variance_ratio_) # show explained variance ratio\n",
    "\n",
    "print(pca.components_) # show principal components"
   ]
  }
 ],
 "metadata": {
  "kernelspec": {
   "display_name": "Python [conda env:root] *",
   "language": "python",
   "name": "conda-root-py"
  },
  "language_info": {
   "codemirror_mode": {
    "name": "ipython",
    "version": 3
   },
   "file_extension": ".py",
   "mimetype": "text/x-python",
   "name": "python",
   "nbconvert_exporter": "python",
   "pygments_lexer": "ipython3",
   "version": "3.9.6"
  }
 },
 "nbformat": 4,
 "nbformat_minor": 5
}
