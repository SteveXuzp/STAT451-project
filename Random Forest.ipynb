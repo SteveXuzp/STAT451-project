{
 "cells": [
  {
   "cell_type": "code",
   "execution_count": 4,
   "id": "574ee632-a87f-4d7c-a612-788baa95a84f",
   "metadata": {},
   "outputs": [],
   "source": [
    "import pandas as pd\n",
    "\n",
    "# read the data\n",
    "X_train = pd.read_csv('X23241.csv').values[:,1:]\n",
    "y_train = pd.read_csv('Y23241.csv').values[:,1].ravel().astype(int)\n"
   ]
  },
  {
   "cell_type": "code",
   "execution_count": 5,
   "id": "16205a8b-3f28-43c9-b8ac-18e26a61fc3f",
   "metadata": {},
   "outputs": [
    {
     "name": "stdout",
     "output_type": "stream",
     "text": [
      "Train/Valid sizes: 23241 4649\n"
     ]
    }
   ],
   "source": [
    "from sklearn.model_selection import train_test_split\n",
    "\n",
    "# split the data\n",
    "X_train_sub, X_valid, y_train_sub, y_valid = \\\n",
    "    train_test_split(X_train, y_train, test_size=0.2, random_state=1, stratify=y_train)\n",
    "\n",
    "print('Train/Valid sizes:', y_train.shape[0], y_valid.shape[0])"
   ]
  },
  {
   "cell_type": "code",
   "execution_count": 6,
   "id": "48d0935d-5125-44e4-bc40-cf2a117449d6",
   "metadata": {},
   "outputs": [
    {
     "data": {
      "text/plain": [
       "GridSearchCV(cv=10, estimator=RandomForestClassifier(random_state=123),\n",
       "             param_grid={'criterion': ['gini', 'entropy'],\n",
       "                         'max_depth': [1, 5, 10, 15, None]},\n",
       "             scoring='accuracy')"
      ]
     },
     "execution_count": 6,
     "metadata": {},
     "output_type": "execute_result"
    }
   ],
   "source": [
    "from sklearn.pipeline import make_pipeline\n",
    "from sklearn.ensemble import RandomForestClassifier\n",
    "from sklearn.model_selection import GridSearchCV\n",
    "\n",
    "#modeling and grid search\n",
    "forest = RandomForestClassifier(n_estimators=100,\n",
    "                                random_state=123)\n",
    "\n",
    "param_grid =  {\n",
    "    'max_depth': [1, 5, 10, 15, None],\n",
    "    'criterion': [\"gini\", \"entropy\"]\n",
    "}\n",
    "\n",
    "gs = GridSearchCV(estimator=forest,\n",
    "                  param_grid=param_grid,\n",
    "                  scoring='accuracy',\n",
    "                  cv=10)\n",
    "\n",
    "gs.fit(X_train_sub, y_train_sub)"
   ]
  },
  {
   "cell_type": "code",
   "execution_count": 7,
   "id": "e902adf2-a624-4b2f-90f6-6e1b81e9b514",
   "metadata": {},
   "outputs": [
    {
     "name": "stdout",
     "output_type": "stream",
     "text": [
      "Best Params: {'criterion': 'entropy', 'max_depth': None}\n"
     ]
    }
   ],
   "source": [
    "print('Best Params: %s' % gs.best_params_) #best parameters"
   ]
  },
  {
   "cell_type": "code",
   "execution_count": 9,
   "id": "87c44f93-7881-4fe7-a780-85ec4cec66a6",
   "metadata": {},
   "outputs": [
    {
     "name": "stdout",
     "output_type": "stream",
     "text": [
      "Training Accuracy: 100.000%\n",
      "Validation Accuracy: 83.760%\n"
     ]
    }
   ],
   "source": [
    "print(f\"Training Accuracy: {gs.best_estimator_.score(X_train_sub, y_train_sub)*100:0.3f}%\")\n",
    "print(f\"Validation Accuracy: {gs.best_estimator_.score(X_valid, y_valid)*100:0.3f}%\")"
   ]
  },
  {
   "cell_type": "code",
   "execution_count": 10,
   "id": "be156e42-9aaa-44f9-a6d9-57a05311d993",
   "metadata": {},
   "outputs": [
    {
     "name": "stdout",
     "output_type": "stream",
     "text": [
      "3.42 s ± 155 ms per loop (mean ± std. dev. of 7 runs, 1 loop each)\n",
      "101 ms ± 4.15 ms per loop (mean ± std. dev. of 7 runs, 10 loops each)\n"
     ]
    }
   ],
   "source": [
    "forest_best = RandomForestClassifier(n_estimators=100,\n",
    "                                     criterion=\"entropy\",\n",
    "                                     random_state=123)\n",
    "\n",
    "%timeit forest_best.fit(X_train_sub, y_train_sub) #training(fitting) time\n",
    "%timeit forest_best.score(X_valid, y_valid) #test time"
   ]
  }
 ],
 "metadata": {
  "kernelspec": {
   "display_name": "Python [conda env:root] *",
   "language": "python",
   "name": "conda-root-py"
  },
  "language_info": {
   "codemirror_mode": {
    "name": "ipython",
    "version": 3
   },
   "file_extension": ".py",
   "mimetype": "text/x-python",
   "name": "python",
   "nbconvert_exporter": "python",
   "pygments_lexer": "ipython3",
   "version": "3.9.6"
  }
 },
 "nbformat": 4,
 "nbformat_minor": 5
}
