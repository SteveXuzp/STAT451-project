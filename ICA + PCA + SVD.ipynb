{
 "cells": [
  {
   "cell_type": "code",
   "execution_count": 1,
   "id": "23260e8e",
   "metadata": {},
   "outputs": [
    {
     "data": {
      "text/plain": [
       "(23241, 10)"
      ]
     },
     "execution_count": 1,
     "metadata": {},
     "output_type": "execute_result"
    }
   ],
   "source": [
    "import pandas as pd\n",
    "import numpy as np\n",
    "X_bar = pd.read_csv('X.csv', header=None).values\n",
    "X = X_bar[:, :10]\n",
    "X.shape\n",
    "#y = pd.read_csv('Y.csv', header=None).values.ravel().astype(int)"
   ]
  },
  {
   "cell_type": "markdown",
   "id": "8a0881b7",
   "metadata": {},
   "source": [
    "# ICA"
   ]
  },
  {
   "cell_type": "code",
   "execution_count": 2,
   "id": "ccffa224",
   "metadata": {},
   "outputs": [
    {
     "data": {
      "text/plain": [
       "array([[ 0.00763871, -0.00137018,  0.01104704],\n",
       "       [ 0.00038129, -0.00958104, -0.00026598],\n",
       "       [-0.0105466 ,  0.00736627,  0.00379075],\n",
       "       ...,\n",
       "       [ 0.00722366,  0.0086751 ,  0.00661737],\n",
       "       [-0.00196023, -0.00822481,  0.00587402],\n",
       "       [ 0.00781979, -0.00430098, -0.00065772]])"
      ]
     },
     "execution_count": 2,
     "metadata": {},
     "output_type": "execute_result"
    }
   ],
   "source": [
    "from sklearn.decomposition import FastICA \n",
    "ICA = FastICA(n_components=3, tol = 1.9 * 1e-2, random_state=0) \n",
    "X_ICA = ICA.fit_transform(X)\n",
    "X_ICA\n",
    "# X_ICA.shape"
   ]
  },
  {
   "cell_type": "markdown",
   "id": "bab11a84",
   "metadata": {},
   "source": [
    "# PCA"
   ]
  },
  {
   "cell_type": "code",
   "execution_count": 11,
   "id": "054e1f06",
   "metadata": {},
   "outputs": [
    {
     "name": "stdout",
     "output_type": "stream",
     "text": [
      "0.8326485568226013\n",
      "[[-0.10212284 -0.49324632  0.08869344 -0.10180441 -0.08077562 -0.12396384\n",
      "   0.45739921 -0.37723541 -0.59503608  0.02383389]\n",
      " [-0.36112718  0.14926721  0.53001836 -0.0236879   0.22007546 -0.38737267\n",
      "  -0.35190535 -0.3621228   0.01778754 -0.33473632]\n",
      " [ 0.35120509 -0.07761268  0.13037446  0.65039458  0.61340523  0.14084726\n",
      "   0.02151056 -0.12293237 -0.10223291  0.09214167]\n",
      " [ 0.04312123  0.06343     0.35549409 -0.2211402  -0.12764205  0.51000923\n",
      "  -0.27731664 -0.36761357 -0.01517933  0.57459689]\n",
      " [-0.61219194 -0.0650302  -0.1724018   0.1849043   0.19630924 -0.29033384\n",
      "   0.0208685   0.14432547  0.08553172  0.63692076]]\n"
     ]
    }
   ],
   "source": [
    "from sklearn.decomposition import PCA\n",
    "from sklearn.preprocessing import scale\n",
    "X = scale(X) # 标准化，标准化之后就自动根据协方差矩阵进行主成分分析了\n",
    "pca = PCA(n_components=5)\n",
    "X_pca = pca.fit(X)\n",
    "print(sum(pca.explained_variance_ratio_))# 输出解释方差比\n",
    "#print(pca.singular_values_)\n",
    "#print(pca.explained_variance_) # 输出特征根\n",
    "print(pca.components_) # 输出主成分"
   ]
  },
  {
   "cell_type": "markdown",
   "id": "5a2b0837",
   "metadata": {},
   "source": [
    "# SVD"
   ]
  },
  {
   "cell_type": "code",
   "execution_count": 4,
   "id": "f4ceb8a9",
   "metadata": {},
   "outputs": [
    {
     "name": "stdout",
     "output_type": "stream",
     "text": [
      "[0.25907695 0.2154638  0.17411413]\n",
      "0.6486548780513431\n",
      "[245.38148593 223.77654579 201.16128884]\n"
     ]
    }
   ],
   "source": [
    "from sklearn.decomposition import TruncatedSVD\n",
    "from scipy.sparse import csr_matrix\n",
    "np.random.seed(0)\n",
    "svd = TruncatedSVD(n_components=3, n_iter=7, random_state=0)\n",
    "svd.fit(X)\n",
    "print(svd.explained_variance_ratio_)\n",
    "print(svd.explained_variance_ratio_.sum())\n",
    "print(svd.singular_values_)"
   ]
  },
  {
   "cell_type": "code",
   "execution_count": null,
   "id": "6a332989",
   "metadata": {},
   "outputs": [],
   "source": []
  }
 ],
 "metadata": {
  "kernelspec": {
   "display_name": "Python 3",
   "language": "python",
   "name": "python3"
  },
  "language_info": {
   "codemirror_mode": {
    "name": "ipython",
    "version": 3
   },
   "file_extension": ".py",
   "mimetype": "text/x-python",
   "name": "python",
   "nbconvert_exporter": "python",
   "pygments_lexer": "ipython3",
   "version": "3.8.8"
  }
 },
 "nbformat": 4,
 "nbformat_minor": 5
}
