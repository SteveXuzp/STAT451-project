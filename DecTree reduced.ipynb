{
 "cells": [
  {
   "cell_type": "code",
   "execution_count": 12,
   "id": "97d1f50d-fae9-4650-ba07-e7e5f0258815",
   "metadata": {},
   "outputs": [],
   "source": [
    "import pandas as pd\n",
    "\n",
    "# read the data\n",
    "X_train = pd.read_csv('pcaX_train.csv').values\n",
    "y_train = pd.read_csv('pcaY_train.csv').values.ravel().astype(int)\n",
    "X_test = pd.read_csv('pcaX_test.csv').values\n",
    "y_test = pd.read_csv('pcaY_test.csv').values.ravel().astype(int)"
   ]
  },
  {
   "cell_type": "code",
   "execution_count": 13,
   "id": "92979194-047a-47e9-8200-93f3c2baa573",
   "metadata": {},
   "outputs": [
    {
     "data": {
      "text/plain": [
       "GridSearchCV(cv=10, estimator=DecisionTreeClassifier(random_state=123),\n",
       "             n_jobs=1,\n",
       "             param_grid={'criterion': ['gini', 'entropy'],\n",
       "                         'max_depth': [1, 11, 21, None],\n",
       "                         'min_samples_split': [2, 3, 4, 5]})"
      ]
     },
     "execution_count": 13,
     "metadata": {},
     "output_type": "execute_result"
    }
   ],
   "source": [
    "import numpy as np\n",
    "from sklearn.model_selection import GridSearchCV\n",
    "from sklearn.tree import DecisionTreeClassifier\n",
    "\n",
    "clf = DecisionTreeClassifier(random_state=123)\n",
    "\n",
    "params =  {\n",
    "    'min_samples_split': [2, 3, 4, 5],\n",
    "    'max_depth': [1, 11, 21, None],\n",
    "    'criterion': [\"gini\", \"entropy\"]\n",
    "}\n",
    "\n",
    "\n",
    "grid = GridSearchCV(estimator=clf,\n",
    "                    param_grid=params,\n",
    "                    cv=10,\n",
    "                    n_jobs=1)\n",
    "\n",
    "grid.fit(X_train, y_train)"
   ]
  },
  {
   "cell_type": "code",
   "execution_count": 14,
   "id": "55ca42e2-24fa-41ce-a560-ec43d402075b",
   "metadata": {},
   "outputs": [
    {
     "data": {
      "text/plain": [
       "{'criterion': 'entropy', 'max_depth': None, 'min_samples_split': 3}"
      ]
     },
     "execution_count": 14,
     "metadata": {},
     "output_type": "execute_result"
    }
   ],
   "source": [
    "grid.best_params_"
   ]
  },
  {
   "cell_type": "code",
   "execution_count": 15,
   "id": "3dced0e1-f054-4472-ae32-a3ebabda5a6d",
   "metadata": {},
   "outputs": [
    {
     "name": "stdout",
     "output_type": "stream",
     "text": [
      "Training Accuracy: 99.150%\n",
      "Test Accuracy: 68.187%\n"
     ]
    }
   ],
   "source": [
    "print(f\"Training Accuracy: {grid.best_estimator_.score(X_train, y_train)*100:0.3f}%\")\n",
    "print(f\"Test Accuracy: {grid.best_estimator_.score(X_test, y_test)*100:0.3f}%\")"
   ]
  },
  {
   "cell_type": "code",
   "execution_count": 16,
   "id": "33485eec-356e-4d24-8f69-0f67e1589f61",
   "metadata": {},
   "outputs": [
    {
     "name": "stdout",
     "output_type": "stream",
     "text": [
      "341 ms ± 9.49 ms per loop (mean ± std. dev. of 7 runs, 1 loop each)\n",
      "1.4 ms ± 38.9 µs per loop (mean ± std. dev. of 7 runs, 1000 loops each)\n"
     ]
    }
   ],
   "source": [
    "clf_best = DecisionTreeClassifier(random_state=123,\n",
    "                                 criterion= 'entropy',\n",
    "                                 max_depth=None,\n",
    "                                 min_samples_split=3)\n",
    "\n",
    "%timeit clf_best.fit(X_train, y_train)\n",
    "%timeit clf_best.score(X_test, y_test)"
   ]
  },
  {
   "cell_type": "code",
   "execution_count": 17,
   "id": "aaa33623-62d8-484f-9c6a-5e3c39bb7a95",
   "metadata": {},
   "outputs": [
    {
     "name": "stdout",
     "output_type": "stream",
     "text": [
      "Training Accuracy: 91.190%\n",
      "Test Accuracy: 68.746%\n",
      "175 ms ± 2.39 ms per loop (mean ± std. dev. of 7 runs, 10 loops each)\n",
      "1.31 ms ± 5.18 µs per loop (mean ± std. dev. of 7 runs, 1000 loops each)\n"
     ]
    }
   ],
   "source": [
    "# compare on the same model with original data\n",
    "clf_best = DecisionTreeClassifier(random_state=123,\n",
    "                                 criterion= 'gini',\n",
    "                                 max_depth=21,\n",
    "                                 min_samples_split=2)\n",
    "\n",
    "clf_best.fit(X_train, y_train)\n",
    "\n",
    "print(f\"Training Accuracy: {clf_best.score(X_train, y_train)*100:0.3f}%\")\n",
    "print(f\"Test Accuracy: {clf_best.score(X_test, y_test)*100:0.3f}%\")\n",
    "\n",
    "%timeit clf_best.fit(X_train, y_train)\n",
    "%timeit clf_best.score(X_test, y_test)"
   ]
  }
 ],
 "metadata": {
  "kernelspec": {
   "display_name": "Python [conda env:root] *",
   "language": "python",
   "name": "conda-root-py"
  },
  "language_info": {
   "codemirror_mode": {
    "name": "ipython",
    "version": 3
   },
   "file_extension": ".py",
   "mimetype": "text/x-python",
   "name": "python",
   "nbconvert_exporter": "python",
   "pygments_lexer": "ipython3",
   "version": "3.9.6"
  }
 },
 "nbformat": 4,
 "nbformat_minor": 5
}
