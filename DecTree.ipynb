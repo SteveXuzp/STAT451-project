{
 "cells": [
  {
   "cell_type": "code",
   "execution_count": 6,
   "id": "69f7d0f2-900c-44e4-8277-ab17762a8940",
   "metadata": {},
   "outputs": [],
   "source": [
    "import pandas as pd\n",
    "\n",
    "# read the data\n",
    "X_train = pd.read_csv('X23241.csv').values[:,1:]\n",
    "y_train = pd.read_csv('Y23241.csv').values[:,1].ravel().astype(int)"
   ]
  },
  {
   "cell_type": "code",
   "execution_count": 7,
   "id": "c0a2c67a-e0e5-464b-a86e-69515e42f092",
   "metadata": {},
   "outputs": [
    {
     "name": "stdout",
     "output_type": "stream",
     "text": [
      "Train/Valid sizes: 18592 4649\n"
     ]
    }
   ],
   "source": [
    "from sklearn.model_selection import train_test_split\n",
    "\n",
    "# split the data\n",
    "X_train_sub, X_valid, y_train_sub, y_valid = \\\n",
    "    train_test_split(X_train, y_train, test_size=0.2, random_state=1, stratify=y_train)\n",
    "\n",
    "print('Train/Valid sizes:', y_train_sub.shape[0], y_valid.shape[0])"
   ]
  },
  {
   "cell_type": "code",
   "execution_count": 8,
   "id": "1e38fd93-a836-419f-9498-6f4b58706efb",
   "metadata": {},
   "outputs": [
    {
     "data": {
      "text/plain": [
       "GridSearchCV(cv=10, estimator=DecisionTreeClassifier(random_state=123),\n",
       "             n_jobs=1,\n",
       "             param_grid={'criterion': ['gini', 'entropy'],\n",
       "                         'max_depth': [1, 11, 21, None],\n",
       "                         'min_samples_split': [2, 3, 4, 5]})"
      ]
     },
     "execution_count": 8,
     "metadata": {},
     "output_type": "execute_result"
    }
   ],
   "source": [
    "import numpy as np\n",
    "from sklearn.model_selection import GridSearchCV\n",
    "from sklearn.tree import DecisionTreeClassifier\n",
    "\n",
    "clf = DecisionTreeClassifier(random_state=123)\n",
    "\n",
    "params =  {\n",
    "    'min_samples_split': [2, 3, 4, 5],\n",
    "    'max_depth': [1, 11, 21, None],\n",
    "    'criterion': [\"gini\", \"entropy\"]\n",
    "}\n",
    "\n",
    "\n",
    "grid = GridSearchCV(estimator=clf,\n",
    "                    param_grid=params,\n",
    "                    cv=10,\n",
    "                    n_jobs=1)\n",
    "\n",
    "grid.fit(X_train_sub, y_train_sub)"
   ]
  },
  {
   "cell_type": "code",
   "execution_count": 9,
   "id": "59214a8b-2a85-4c0d-b76e-31613dc5f887",
   "metadata": {},
   "outputs": [
    {
     "data": {
      "text/plain": [
       "{'criterion': 'gini', 'max_depth': 21, 'min_samples_split': 2}"
      ]
     },
     "execution_count": 9,
     "metadata": {},
     "output_type": "execute_result"
    }
   ],
   "source": [
    "grid.best_params_"
   ]
  },
  {
   "cell_type": "code",
   "execution_count": 10,
   "id": "1f424438-f036-4dd1-8e67-d3418a84d5cd",
   "metadata": {},
   "outputs": [
    {
     "name": "stdout",
     "output_type": "stream",
     "text": [
      "Training Accuracy: 98.005%\n",
      "Validation Accuracy: 77.242%\n"
     ]
    }
   ],
   "source": [
    "print(f\"Training Accuracy: {grid.best_estimator_.score(X_train_sub, y_train_sub)*100:0.3f}%\")\n",
    "print(f\"Validation Accuracy: {grid.best_estimator_.score(X_valid, y_valid)*100:0.3f}%\")"
   ]
  }
 ],
 "metadata": {
  "kernelspec": {
   "display_name": "Python [conda env:root] *",
   "language": "python",
   "name": "conda-root-py"
  },
  "language_info": {
   "codemirror_mode": {
    "name": "ipython",
    "version": 3
   },
   "file_extension": ".py",
   "mimetype": "text/x-python",
   "name": "python",
   "nbconvert_exporter": "python",
   "pygments_lexer": "ipython3",
   "version": "3.9.6"
  }
 },
 "nbformat": 4,
 "nbformat_minor": 5
}
