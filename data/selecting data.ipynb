{
 "cells": [
  {
   "cell_type": "code",
   "execution_count": 16,
   "id": "75890a97",
   "metadata": {},
   "outputs": [],
   "source": [
    "import csv as csv\n",
    "import pandas as pd\n",
    "\n",
    "from sklearn import model_selection\n",
    "from sklearn.model_selection import train_test_split\n",
    "from sklearn import datasets\n"
   ]
  },
  {
   "cell_type": "code",
   "execution_count": 33,
   "id": "ca72f5a8",
   "metadata": {},
   "outputs": [
    {
     "data": {
      "text/plain": [
       "<bound method NDFrame.head of         Elevation  Aspect  Slope  Horizontal_Distance_To_Hydrology  \\\n",
       "430456       3240     320     11                               655   \n",
       "169324       3151     328      7                               218   \n",
       "76282        2509      88      8                                30   \n",
       "278663       3127     322     27                               210   \n",
       "285790       2460     323     26                               418   \n",
       "...           ...     ...    ...                               ...   \n",
       "219965       3276      18      8                                85   \n",
       "289484       2995      85     32                               564   \n",
       "533955       3212     276     20                               300   \n",
       "133418       3017     315      3                               313   \n",
       "345919       3434      92     27                               212   \n",
       "\n",
       "        Vertical_Distance_To_Hydrology  Horizontal_Distance_To_Roadways  \\\n",
       "430456                             -34                             2563   \n",
       "169324                              31                             4645   \n",
       "76282                                1                              420   \n",
       "278663                             131                              598   \n",
       "285790                             201                              558   \n",
       "...                                ...                              ...   \n",
       "219965                              -5                             3319   \n",
       "289484                             190                              571   \n",
       "533955                             105                              242   \n",
       "133418                              51                             4186   \n",
       "345919                              -2                             3472   \n",
       "\n",
       "        Hillshade_9am  Hillshade_Noon  Hillshade_3pm  \\\n",
       "430456            191             229            178   \n",
       "169324            203             232            168   \n",
       "76282             232             227            128   \n",
       "278663            140             201            195   \n",
       "285790            145             203            193   \n",
       "...               ...             ...            ...   \n",
       "219965            214             223            145   \n",
       "289484            246             169              0   \n",
       "533955            162             240            215   \n",
       "133418            211             237            164   \n",
       "345919            250             186             47   \n",
       "\n",
       "        Horizontal_Distance_To_Fire_Points  ...  Soil_Type31  Soil_Type32  \\\n",
       "430456                                 351  ...            0            1   \n",
       "169324                                2536  ...            0            0   \n",
       "76282                                  391  ...            0            0   \n",
       "278663                                2218  ...            0            0   \n",
       "285790                                 541  ...            0            0   \n",
       "...                                    ...  ...          ...          ...   \n",
       "219965                                1983  ...            0            0   \n",
       "289484                                1565  ...            0            0   \n",
       "533955                                 661  ...            0            0   \n",
       "133418                                1200  ...            0            0   \n",
       "345919                                2704  ...            0            0   \n",
       "\n",
       "        Soil_Type33  Soil_Type34  Soil_Type35  Soil_Type36  Soil_Type37  \\\n",
       "430456            0            0            0            0            0   \n",
       "169324            0            0            0            0            0   \n",
       "76282             0            0            0            0            0   \n",
       "278663            0            0            0            0            0   \n",
       "285790            0            0            0            0            0   \n",
       "...             ...          ...          ...          ...          ...   \n",
       "219965            0            0            0            0            0   \n",
       "289484            0            0            0            0            0   \n",
       "533955            0            0            0            0            0   \n",
       "133418            0            0            0            0            0   \n",
       "345919            0            0            0            0            1   \n",
       "\n",
       "        Soil_Type38  Soil_Type39  Soil_Type40  \n",
       "430456            0            0            0  \n",
       "169324            0            0            0  \n",
       "76282             0            0            0  \n",
       "278663            0            0            0  \n",
       "285790            0            0            0  \n",
       "...             ...          ...          ...  \n",
       "219965            0            0            0  \n",
       "289484            0            0            0  \n",
       "533955            0            0            0  \n",
       "133418            0            0            0  \n",
       "345919            0            0            0  \n",
       "\n",
       "[23241 rows x 54 columns]>"
      ]
     },
     "execution_count": 33,
     "metadata": {},
     "output_type": "execute_result"
    }
   ],
   "source": [
    "data=pd.read_csv(r'covtype.csv',encoding='gbk')\n",
    "\n",
    "X=data.drop(columns=['Cover_Type'])\n",
    "\n",
    "Y=data['Cover_Type']\n",
    "\n",
    "X_train, X_test, y_train, y_test = \\\n",
    "    train_test_split(X, Y, test_size=0.04, random_state=1, stratify=Y)\n",
    "X_test.head"
   ]
  },
  {
   "cell_type": "code",
   "execution_count": 34,
   "id": "6fb85a4c",
   "metadata": {},
   "outputs": [],
   "source": [
    "X_test.to_csv(r'X23241.csv',sep=',',header=True, index=True, encoding='gbk')\n",
    "y_test.to_csv(r'Y23241.csv',sep=',',header=True, index=True, encoding='gbk')\n"
   ]
  }
 ],
 "metadata": {
  "kernelspec": {
   "display_name": "Python 3 (ipykernel)",
   "language": "python",
   "name": "python3"
  },
  "language_info": {
   "codemirror_mode": {
    "name": "ipython",
    "version": 3
   },
   "file_extension": ".py",
   "mimetype": "text/x-python",
   "name": "python",
   "nbconvert_exporter": "python",
   "pygments_lexer": "ipython3",
   "version": "3.9.6"
  }
 },
 "nbformat": 4,
 "nbformat_minor": 5
}
