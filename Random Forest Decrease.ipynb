{
 "cells": [
  {
   "cell_type": "code",
   "execution_count": 24,
   "id": "1c926237-388c-465f-8a1f-bba185ffdca1",
   "metadata": {},
   "outputs": [],
   "source": [
    "import pandas as pd\n",
    "\n",
    "# read the data\n",
    "X_train = pd.read_csv('X23241.csv').values[:,1:]\n",
    "y_train = pd.read_csv('Y23241.csv').values[:,1].ravel().astype(int)"
   ]
  },
  {
   "cell_type": "code",
   "execution_count": 25,
   "id": "84942faa-6f2c-4215-8ad4-e6a14492363d",
   "metadata": {},
   "outputs": [
    {
     "name": "stdout",
     "output_type": "stream",
     "text": [
      "Train/Valid sizes: 18592 4649\n"
     ]
    }
   ],
   "source": [
    "from sklearn.model_selection import train_test_split\n",
    "\n",
    "# split the data\n",
    "X_train_sub, X_valid, y_train_sub, y_valid = \\\n",
    "    train_test_split(X_train, y_train, test_size=0.2, random_state=1, stratify=y_train)\n",
    "\n",
    "print('Train/Valid sizes:', y_train_sub.shape[0], y_valid.shape[0])"
   ]
  },
  {
   "cell_type": "code",
   "execution_count": 42,
   "id": "6c14fba9-9707-479d-b165-7624a8fb7b64",
   "metadata": {},
   "outputs": [
    {
     "name": "stdout",
     "output_type": "stream",
     "text": [
      "[0.25947817 0.21464207 0.17413273 0.10830627 0.07621763]\n",
      "0.6857388685738869\n",
      "Validation Accuracy standardized dataset: 75.027%\n"
     ]
    }
   ],
   "source": [
    "from sklearn.pipeline import make_pipeline\n",
    "from sklearn.ensemble import RandomForestClassifier\n",
    "from sklearn.model_selection import GridSearchCV\n",
    "\n",
    "from sklearn.decomposition import PCA\n",
    "from sklearn import preprocessing\n",
    "from sklearn.pipeline import make_pipeline\n",
    "from sklearn import metrics\n",
    "\n",
    "scaler = preprocessing.StandardScaler().fit(X_train_sub[:,0:10])\n",
    "\n",
    "X_scaled_sub = scaler.transform(X_train_sub[:,0:10])\n",
    "X_scaled_test = scaler.transform(X_valid[:,0:10])\n",
    "\n",
    "pca = PCA(n_components=5)\n",
    "pca.fit(X_scaled_sub)\n",
    "X_new = pca.transform(X_scaled_sub)\n",
    "X_new_test = pca.transform(X_scaled_test)\n",
    "\n",
    "print(pca.explained_variance_ratio_)\n",
    "\n",
    "forest.fit(X_new, y_train_sub)\n",
    "print(forest.score(X_new_test, y_valid))\n",
    "\n",
    "\n",
    "#modeling and grid search\n",
    "forest = RandomForestClassifier(n_estimators=100,\n",
    "                                criterion=\"entropy\",\n",
    "                                random_state=123)\n",
    "\n",
    "scaled = make_pipeline(StandardScaler(), PCA(n_components=5), forest)\n",
    "\n",
    "scaled.fit(X_train_sub, y_train_sub)\n",
    "# pred_test_std = scaled.predict(X_valid)\n",
    "\n",
    "pca_std = scaled.named_steps[\"pca\"]\n",
    "\n",
    "#pca_std.explained_variance_ratio_\n",
    "\n",
    "print(f\"Validation Accuracy standardized dataset: {scaled.score(X_valid, y_valid)*100:0.3f}%\")"
   ]
  },
  {
   "cell_type": "code",
   "execution_count": 12,
   "id": "ba2ecd3a-2f77-4915-9558-5e38c11e0ad7",
   "metadata": {},
   "outputs": [
    {
     "name": "stdout",
     "output_type": "stream",
     "text": [
      "Best Params: {'criterion': 'entropy', 'max_depth': None}\n"
     ]
    }
   ],
   "source": [
    "print('Best Params: %s' % gs.best_params_) #best parameters"
   ]
  },
  {
   "cell_type": "code",
   "execution_count": 13,
   "id": "5f2de24a-4985-4e72-876b-dfd83fd14eb1",
   "metadata": {},
   "outputs": [
    {
     "name": "stdout",
     "output_type": "stream",
     "text": [
      "Training Accuracy: 100.000%\n",
      "Validation Accuracy: 81.265%\n"
     ]
    }
   ],
   "source": [
    "print(f\"Training Accuracy: {gs.best_estimator_.score(X_train_sub, y_train_sub)*100:0.3f}%\")\n",
    "print(f\"Validation Accuracy: {gs.best_estimator_.score(X_valid, y_valid)*100:0.3f}%\")"
   ]
  },
  {
   "cell_type": "code",
   "execution_count": 14,
   "id": "1d9b9669-4709-458d-a2c9-630b22eae6bd",
   "metadata": {},
   "outputs": [
    {
     "name": "stdout",
     "output_type": "stream",
     "text": [
      "6.21 s ± 84.3 ms per loop (mean ± std. dev. of 7 runs, 1 loop each)\n",
      "89.7 ms ± 264 µs per loop (mean ± std. dev. of 7 runs, 10 loops each)\n"
     ]
    }
   ],
   "source": [
    "forest_best = RandomForestClassifier(n_estimators=100,\n",
    "                                     criterion=\"entropy\",\n",
    "                                     random_state=123)\n",
    "\n",
    "%timeit forest_best.fit(X_train_sub, y_train_sub) #training(fitting) time\n",
    "%timeit forest_best.score(X_valid, y_valid) #test time"
   ]
  }
 ],
 "metadata": {
  "kernelspec": {
   "display_name": "Python [conda env:root] *",
   "language": "python",
   "name": "conda-root-py"
  },
  "language_info": {
   "codemirror_mode": {
    "name": "ipython",
    "version": 3
   },
   "file_extension": ".py",
   "mimetype": "text/x-python",
   "name": "python",
   "nbconvert_exporter": "python",
   "pygments_lexer": "ipython3",
   "version": "3.9.6"
  }
 },
 "nbformat": 4,
 "nbformat_minor": 5
}
