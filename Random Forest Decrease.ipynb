{
 "cells": [
  {
   "cell_type": "code",
   "execution_count": 4,
   "id": "1c926237-388c-465f-8a1f-bba185ffdca1",
   "metadata": {},
   "outputs": [],
   "source": [
    "import pandas as pd\n",
    "\n",
    "# read the data\n",
    "\n",
    "X_train = pd.read_csv('pcaX_train.csv').values\n",
    "y_train = pd.read_csv('pcaY_train.csv').values.ravel().astype(int)\n",
    "X_test = pd.read_csv('pcaX_test.csv').values\n",
    "y_test = pd.read_csv('pcaY_test.csv').values.ravel().astype(int)"
   ]
  },
  {
   "cell_type": "code",
   "execution_count": 5,
   "id": "257c6e38-401a-42ec-b050-9404fc7795cf",
   "metadata": {},
   "outputs": [
    {
     "data": {
      "text/plain": [
       "GridSearchCV(cv=10, estimator=RandomForestClassifier(random_state=123),\n",
       "             param_grid={'criterion': ['gini', 'entropy'],\n",
       "                         'max_depth': [1, 5, 10, 15, None]},\n",
       "             scoring='accuracy')"
      ]
     },
     "execution_count": 5,
     "metadata": {},
     "output_type": "execute_result"
    }
   ],
   "source": [
    "from sklearn.pipeline import make_pipeline\n",
    "from sklearn.ensemble import RandomForestClassifier\n",
    "from sklearn.model_selection import GridSearchCV\n",
    "\n",
    "#modeling and grid search\n",
    "forest = RandomForestClassifier(n_estimators=100,\n",
    "                                random_state=123)\n",
    "\n",
    "param_grid =  {\n",
    "    'max_depth': [1, 5, 10, 15, None],\n",
    "    'criterion': [\"gini\", \"entropy\"]\n",
    "}\n",
    "\n",
    "gs = GridSearchCV(estimator=forest,\n",
    "                  param_grid=param_grid,\n",
    "                  scoring='accuracy',\n",
    "                  cv=10)\n",
    "\n",
    "gs.fit(X_train, y_train)"
   ]
  },
  {
   "cell_type": "code",
   "execution_count": 6,
   "id": "1edc6486-8138-42a7-a49f-9362019ed1aa",
   "metadata": {},
   "outputs": [
    {
     "name": "stdout",
     "output_type": "stream",
     "text": [
      "Best Params: {'criterion': 'gini', 'max_depth': None}\n"
     ]
    }
   ],
   "source": [
    "print('Best Params: %s' % gs.best_params_) #best parameters"
   ]
  },
  {
   "cell_type": "code",
   "execution_count": 7,
   "id": "2e677046-23ef-4b5d-b3b9-d0df84834057",
   "metadata": {},
   "outputs": [
    {
     "name": "stdout",
     "output_type": "stream",
     "text": [
      "Training Accuracy: 100.000%\n",
      "Test Accuracy: 77.587%\n"
     ]
    }
   ],
   "source": [
    "print(f\"Training Accuracy: {gs.best_estimator_.score(X_train, y_train)*100:0.3f}%\")\n",
    "print(f\"Test Accuracy: {gs.best_estimator_.score(X_test, y_test)*100:0.3f}%\")"
   ]
  },
  {
   "cell_type": "code",
   "execution_count": 11,
   "id": "74d57083-3ab8-44c0-8e96-448583f7ab7f",
   "metadata": {},
   "outputs": [
    {
     "name": "stdout",
     "output_type": "stream",
     "text": [
      "2.76 s ± 148 ms per loop (mean ± std. dev. of 7 runs, 1 loop each)\n",
      "109 ms ± 354 µs per loop (mean ± std. dev. of 7 runs, 10 loops each)\n"
     ]
    }
   ],
   "source": [
    "import numpy as np\n",
    "\n",
    "forest_best = RandomForestClassifier(n_estimators=100,\n",
    "                                     criterion=\"gini\",\n",
    "                                     random_state=123)\n",
    "\n",
    "forest_best.fit(X_train, y_train)\n",
    "\n",
    "%timeit forest_best.fit(X_train, y_train) #training(fitting) time\n",
    "%timeit forest_best.score(X_test, y_test) #test time"
   ]
  },
  {
   "cell_type": "code",
   "execution_count": 13,
   "id": "6c14fba9-9707-479d-b165-7624a8fb7b64",
   "metadata": {},
   "outputs": [
    {
     "name": "stdout",
     "output_type": "stream",
     "text": [
      "Average tree depth: 39.94\n",
      "Training Accuracy: 100.000%\n",
      "Test Accuracy: 77.823%\n",
      "4.44 s ± 86.5 ms per loop (mean ± std. dev. of 7 runs, 1 loop each)\n",
      "108 ms ± 518 µs per loop (mean ± std. dev. of 7 runs, 10 loops each)\n"
     ]
    }
   ],
   "source": [
    "# compare on the same model with original data\n",
    "\n",
    "forest_best = RandomForestClassifier(n_estimators=100,\n",
    "                                     criterion=\"entropy\",\n",
    "                                     random_state=123)\n",
    "\n",
    "forest_best.fit(X_train, y_train)\n",
    "\n",
    "n = len(forest_best.estimators_)\n",
    "depth = list(range(n))\n",
    "for i in range(len(forest_best.estimators_)):\n",
    "    depth[i] = forest_best.estimators_[i].get_depth()\n",
    "\n",
    "print(\"Average tree depth:\",np.mean(depth))\n",
    "\n",
    "print(f\"Training Accuracy: {forest_best.score(X_train, y_train)*100:0.3f}%\")\n",
    "print(f\"Test Accuracy: {forest_best.score(X_test, y_test)*100:0.3f}%\")\n",
    "\n",
    "\n",
    "%timeit forest_best.fit(X_train, y_train) #training(fitting) time\n",
    "%timeit forest_best.score(X_test, y_test) #test time"
   ]
  }
 ],
 "metadata": {
  "kernelspec": {
   "display_name": "Python [conda env:root] *",
   "language": "python",
   "name": "conda-root-py"
  },
  "language_info": {
   "codemirror_mode": {
    "name": "ipython",
    "version": 3
   },
   "file_extension": ".py",
   "mimetype": "text/x-python",
   "name": "python",
   "nbconvert_exporter": "python",
   "pygments_lexer": "ipython3",
   "version": "3.9.6"
  }
 },
 "nbformat": 4,
 "nbformat_minor": 5
}
