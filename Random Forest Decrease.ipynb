{
 "cells": [
  {
   "cell_type": "code",
   "execution_count": 1,
   "id": "1c926237-388c-465f-8a1f-bba185ffdca1",
   "metadata": {},
   "outputs": [],
   "source": [
    "import pandas as pd\n",
    "\n",
    "# read the data\n",
    "\n",
    "X_train = pd.read_csv('pcaX_train.csv').values\n",
    "y_train = pd.read_csv('pcaY_train.csv').values.ravel().astype(int)\n",
    "X_valid = pd.read_csv('pcaX_test.csv').values\n",
    "y_valid = pd.read_csv('pcaY_test.csv').values.ravel().astype(int)"
   ]
  },
  {
   "cell_type": "code",
   "execution_count": 3,
   "id": "6c14fba9-9707-479d-b165-7624a8fb7b64",
   "metadata": {},
   "outputs": [
    {
     "name": "stdout",
     "output_type": "stream",
     "text": [
      "Average tree depth: 39.94\n",
      "Training Accuracy: 100.000%\n",
      "Validation Accuracy: 77.823%\n",
      "4.38 s ± 25.5 ms per loop (mean ± std. dev. of 7 runs, 1 loop each)\n",
      "105 ms ± 675 µs per loop (mean ± std. dev. of 7 runs, 10 loops each)\n"
     ]
    }
   ],
   "source": [
    "import numpy as np\n",
    "from sklearn.ensemble import RandomForestClassifier\n",
    "\n",
    "forest_best = RandomForestClassifier(n_estimators=100,\n",
    "                                     criterion=\"entropy\",\n",
    "                                     random_state=123)\n",
    "\n",
    "forest_best.fit(X_train, y_train)\n",
    "\n",
    "n = len(forest_best.estimators_)\n",
    "depth = list(range(n))\n",
    "for i in range(len(forest_best.estimators_)):\n",
    "    depth[i] = forest_best.estimators_[i].get_depth()\n",
    "\n",
    "print(\"Average tree depth:\",np.mean(depth))\n",
    "\n",
    "print(f\"Training Accuracy: {forest_best.score(X_train, y_train)*100:0.3f}%\")\n",
    "print(f\"Validation Accuracy: {forest_best.score(X_valid, y_valid)*100:0.3f}%\")\n",
    "\n",
    "\n",
    "%timeit forest_best.fit(X_train, y_train) #training(fitting) time\n",
    "%timeit forest_best.score(X_valid, y_valid) #test time"
   ]
  }
 ],
 "metadata": {
  "kernelspec": {
   "display_name": "Python [conda env:root] *",
   "language": "python",
   "name": "conda-root-py"
  },
  "language_info": {
   "codemirror_mode": {
    "name": "ipython",
    "version": 3
   },
   "file_extension": ".py",
   "mimetype": "text/x-python",
   "name": "python",
   "nbconvert_exporter": "python",
   "pygments_lexer": "ipython3",
   "version": "3.9.6"
  }
 },
 "nbformat": 4,
 "nbformat_minor": 5
}
